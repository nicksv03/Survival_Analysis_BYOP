{
 "cells": [
  {
   "attachments": {},
   "cell_type": "markdown",
   "metadata": {},
   "source": [
    "# Survival Analysis On Synthesis Data for Diabetic Patients\n",
    "\n",
    "### Project Details\n",
    "\n",
    "This is the BYOP (bring your own project) Capstone Project for our IPBA Program from IIM Indore.\n",
    "\n",
    "### Scope of the Project\n",
    "\n",
    "This project aims to analyze daibetes patient's TIME ON THERAPY using advance analysis techniques.\n",
    "\n",
    "### Objective\n",
    "\n",
    "Main objective for this project is to provide a solution that busineses can implement to understand the patient's behaviour and different scenarios.\n",
    "\n",
    "### Data\n",
    "\n",
    "We have generated the simulated Anonymised Patient Level Data using the python Faker module.\n",
    "\n",
    "| Feild                     | Description                                                                   |\n",
    "|:-------------------------:|:-----------------------------------------------------------------------------:|\n",
    "|: claim_id                :|: Insurance Claim Number (Unique)                                             :|\n",
    "|: patient_id              :|: Patient Unique ID                                                           :|\n",
    "|: service_date            :|: Date when the claim was initiated                                           :|\n",
    "|: claim_type              :|: Paid, Rejected or Reversed Claim                                            :|\n",
    "|: days_supply             :|: No. of Days Drugs was Supplied For                                          :|\n",
    "|: quantity                :|: Quantity of Medicine(Capsules)                                              :|\n",
    "|: patient_birth_year      :|: DOB of Patient                                                              :|\n",
    "|: gender                  :|: Gender of Patient                                                           :|\n",
    "|: diseases_type           :|: T1: Type 1 / T2: Type 2 Diabetes                                            :|\n",
    "|: ndc                     :|: Product ID / Unique Durg Code                                               :|\n",
    "|: drug_name               :|: Brand Name of the Drug                                                      :|\n",
    "|: class                   :|: Category of Drug                                                            :|\n",
    "|: sub_class               :|: Sub Category of Drug                                                        :|\n",
    "|: mode_of_dispensation    :|: How drug is Dispensed - Oral or Injectible                                  :|\n",
    "|: treatment_hierarchy     :|: The order in which drug is prescribed as diabetes intensifies               :|\n",
    "|: past_medical_history    :|: Yes or No                                                                   :|\n",
    "|: family_history          :|: Family History of Diabetes - Yes or No                                      :|\n",
    "|: is_there_complication   :|: Yes or No                                                                   :|\n",
    "|: marital_status          :|: Married or Unmarried                                                        :|\n",
    "|: educational_status      :|: Educated or Uneducated                                                      :|\n",
    "|: employee_status         :|: Employed or Unemployed                                             :|"
   ]
  }
 ],
 "metadata": {
  "language_info": {
   "name": "python"
  },
  "orig_nbformat": 4
 },
 "nbformat": 4,
 "nbformat_minor": 2
}
