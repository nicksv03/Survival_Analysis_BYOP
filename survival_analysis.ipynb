{
 "cells": [
  {
   "attachments": {},
   "cell_type": "markdown",
   "metadata": {},
   "source": [
    "# Survival Analysis On Synthesis Data for Diabetic Patients\n",
    "\n",
    "### Project Details\n",
    "\n",
    "This is the BYOP (bring your own project) Capstone Project for our IPBA Program from IIM Indore.\n",
    "\n",
    "### Scope of the Project\n",
    "\n",
    "This project aims to analyze daibetes patient's TIME ON THERAPY using advance analysis techniques.\n",
    "\n",
    "### Objective\n",
    "\n",
    "Main objective for this project is to provide a solution that busineses can implement to understand the patient's behaviour and different scenarios.\n",
    "\n",
    "### Data\n",
    "\n",
    "We have generated the simulated Anonymised Patient Level Data using the python Faker module.\n",
    "\n",
    "| Field                     | Description                                                                   |\n",
    "|:--------------------------|:------------------------------------------------------------------------------|\n",
    "|: claim_id                :|: Insurance Claim Number (Unique)                                             :|\n",
    "|: patient_id              :|: Patient Unique ID                                                           :|\n",
    "|: service_date            :|: Date when the claim was initiated                                           :|\n",
    "|: claim_type              :|: Paid, Rejected or Reversed Claim                                            :|\n",
    "|: days_supply             :|: No. of Days Drugs was Supplied For                                          :|\n",
    "|: quantity                :|: Quantity of Medicine(Capsules)                                              :|\n",
    "|: patient_birth_year      :|: DOB of Patient                                                              :|\n",
    "|: gender                  :|: Gender of Patient                                                           :|\n",
    "|: diseases_type           :|: T1: Type 1 / T2: Type 2 Diabetes                                            :|\n",
    "|: ndc                     :|: Product ID / Unique Durg Code                                               :|\n",
    "|: drug_name               :|: Brand Name of the Drug                                                      :|\n",
    "|: class                   :|: Category of Drug                                                            :|\n",
    "|: sub_class               :|: Sub Category of Drug                                                        :|\n",
    "|: mode_of_dispensation    :|: How drug is Dispensed - Oral or Injectible                                  :|\n",
    "|: treatment_hierarchy     :|: The order in which drug is prescribed as diabetes intensifies               :|\n",
    "|: past_medical_history    :|: Yes or No                                                                   :|\n",
    "|: family_history          :|: Family History of Diabetes - Yes or No                                      :|\n",
    "|: is_there_complication   :|: Yes or No                                                                   :|\n",
    "|: marital_status          :|: Married or Unmarried                                                        :|\n",
    "|: educational_status      :|: Educated or Uneducated                                                      :|\n",
    "|: employee_status         :|: Employed or Unemployed                                             :|"
   ]
  },
  {
   "attachments": {},
   "cell_type": "markdown",
   "metadata": {},
   "source": [
    "# Importing Libraries"
   ]
  },
  {
   "cell_type": "code",
   "execution_count": 2,
   "metadata": {},
   "outputs": [],
   "source": [
    "import numpy as np\n",
    "import pandas as pd\n",
    "import matplotlib.pyplot as plt\n",
    "import seaborn as sns\n",
    "import lifelines\n",
    "import os\n",
    "import pymysql.cursors\n",
    "import warnings\n",
    "warnings.filterwarnings('ignore')   # ignore warnings\n",
    "from datetime import datetime\n",
    "from lifelines import KaplanMeierFitter\n",
    "from lifelines.statistics import logrank_test\n",
    "from lifelines import CoxPHFitter\n",
    "from lifelines.utils import median_survival_times\n",
    "from sklearn.preprocessing import LabelEncoder\n",
    "from sklearn.model_selection import train_test_split    # split data"
   ]
  },
  {
   "cell_type": "code",
   "execution_count": 3,
   "metadata": {},
   "outputs": [],
   "source": [
    "# Filters\n",
    "start_date = '2019-01-01'\n",
    "end_date = '2022-12-31'"
   ]
  },
  {
   "attachments": {},
   "cell_type": "markdown",
   "metadata": {},
   "source": [
    "# Import Data"
   ]
  },
  {
   "cell_type": "code",
   "execution_count": 4,
   "metadata": {},
   "outputs": [],
   "source": [
    "apld_df = pd.read_pickle('df_diabetes_s1.pickle')"
   ]
  },
  {
   "cell_type": "code",
   "execution_count": 5,
   "metadata": {},
   "outputs": [
    {
     "data": {
      "text/html": [
       "<div>\n",
       "<style scoped>\n",
       "    .dataframe tbody tr th:only-of-type {\n",
       "        vertical-align: middle;\n",
       "    }\n",
       "\n",
       "    .dataframe tbody tr th {\n",
       "        vertical-align: top;\n",
       "    }\n",
       "\n",
       "    .dataframe thead th {\n",
       "        text-align: right;\n",
       "    }\n",
       "</style>\n",
       "<table border=\"1\" class=\"dataframe\">\n",
       "  <thead>\n",
       "    <tr style=\"text-align: right;\">\n",
       "      <th></th>\n",
       "      <th>0</th>\n",
       "      <th>1</th>\n",
       "      <th>2</th>\n",
       "      <th>3</th>\n",
       "      <th>4</th>\n",
       "    </tr>\n",
       "  </thead>\n",
       "  <tbody>\n",
       "    <tr>\n",
       "      <th>claim_id</th>\n",
       "      <td>517566340</td>\n",
       "      <td>387782725</td>\n",
       "      <td>999807010</td>\n",
       "      <td>999807011</td>\n",
       "      <td>999807012</td>\n",
       "    </tr>\n",
       "    <tr>\n",
       "      <th>patient_id</th>\n",
       "      <td>20006</td>\n",
       "      <td>20006</td>\n",
       "      <td>20006</td>\n",
       "      <td>20006</td>\n",
       "      <td>20006</td>\n",
       "    </tr>\n",
       "    <tr>\n",
       "      <th>service_date</th>\n",
       "      <td>2021-10-30</td>\n",
       "      <td>2021-12-14</td>\n",
       "      <td>2022-02-12</td>\n",
       "      <td>2022-05-13</td>\n",
       "      <td>2022-05-13</td>\n",
       "    </tr>\n",
       "    <tr>\n",
       "      <th>claim_type</th>\n",
       "      <td>pd</td>\n",
       "      <td>pd</td>\n",
       "      <td>pd</td>\n",
       "      <td>pd</td>\n",
       "      <td>pd</td>\n",
       "    </tr>\n",
       "    <tr>\n",
       "      <th>days_supply</th>\n",
       "      <td>45</td>\n",
       "      <td>60</td>\n",
       "      <td>90</td>\n",
       "      <td>45</td>\n",
       "      <td>45</td>\n",
       "    </tr>\n",
       "    <tr>\n",
       "      <th>quantity</th>\n",
       "      <td>60</td>\n",
       "      <td>15</td>\n",
       "      <td>75</td>\n",
       "      <td>75</td>\n",
       "      <td>75</td>\n",
       "    </tr>\n",
       "    <tr>\n",
       "      <th>patient_birth_year</th>\n",
       "      <td>1963</td>\n",
       "      <td>1963</td>\n",
       "      <td>1963</td>\n",
       "      <td>1963</td>\n",
       "      <td>1963</td>\n",
       "    </tr>\n",
       "    <tr>\n",
       "      <th>gender</th>\n",
       "      <td>m</td>\n",
       "      <td>m</td>\n",
       "      <td>m</td>\n",
       "      <td>m</td>\n",
       "      <td>m</td>\n",
       "    </tr>\n",
       "    <tr>\n",
       "      <th>disease_type</th>\n",
       "      <td>t2</td>\n",
       "      <td>t2</td>\n",
       "      <td>t2</td>\n",
       "      <td>t2</td>\n",
       "      <td>t2</td>\n",
       "    </tr>\n",
       "    <tr>\n",
       "      <th>ndc</th>\n",
       "      <td>47152818127</td>\n",
       "      <td>83161652750</td>\n",
       "      <td>83161652750</td>\n",
       "      <td>83903911733</td>\n",
       "      <td>78589353539</td>\n",
       "    </tr>\n",
       "    <tr>\n",
       "      <th>drug_name</th>\n",
       "      <td>rybelsus</td>\n",
       "      <td>rybelsus</td>\n",
       "      <td>rybelsus</td>\n",
       "      <td>humalog mix</td>\n",
       "      <td>actos</td>\n",
       "    </tr>\n",
       "    <tr>\n",
       "      <th>class</th>\n",
       "      <td>incretin</td>\n",
       "      <td>incretin</td>\n",
       "      <td>incretin</td>\n",
       "      <td>insulin</td>\n",
       "      <td>oral</td>\n",
       "    </tr>\n",
       "    <tr>\n",
       "      <th>sub_class</th>\n",
       "      <td>glp-1 receptor</td>\n",
       "      <td>glp-1 receptor</td>\n",
       "      <td>glp-1 receptor</td>\n",
       "      <td>premix insulin</td>\n",
       "      <td>thiazolidinediones</td>\n",
       "    </tr>\n",
       "    <tr>\n",
       "      <th>mode_of_dispensation</th>\n",
       "      <td>oral</td>\n",
       "      <td>oral</td>\n",
       "      <td>oral</td>\n",
       "      <td>injectable</td>\n",
       "      <td>oral</td>\n",
       "    </tr>\n",
       "    <tr>\n",
       "      <th>treatement_hierarchy</th>\n",
       "      <td>7</td>\n",
       "      <td>7</td>\n",
       "      <td>7</td>\n",
       "      <td>9</td>\n",
       "      <td>3</td>\n",
       "    </tr>\n",
       "    <tr>\n",
       "      <th>past_medical_history</th>\n",
       "      <td>y</td>\n",
       "      <td>y</td>\n",
       "      <td>y</td>\n",
       "      <td>y</td>\n",
       "      <td>y</td>\n",
       "    </tr>\n",
       "    <tr>\n",
       "      <th>family_history</th>\n",
       "      <td>n</td>\n",
       "      <td>n</td>\n",
       "      <td>n</td>\n",
       "      <td>n</td>\n",
       "      <td>n</td>\n",
       "    </tr>\n",
       "    <tr>\n",
       "      <th>is_there_complication</th>\n",
       "      <td>y</td>\n",
       "      <td>y</td>\n",
       "      <td>y</td>\n",
       "      <td>y</td>\n",
       "      <td>y</td>\n",
       "    </tr>\n",
       "    <tr>\n",
       "      <th>marital_status</th>\n",
       "      <td>married</td>\n",
       "      <td>married</td>\n",
       "      <td>married</td>\n",
       "      <td>married</td>\n",
       "      <td>married</td>\n",
       "    </tr>\n",
       "    <tr>\n",
       "      <th>educational_status</th>\n",
       "      <td>educated</td>\n",
       "      <td>educated</td>\n",
       "      <td>educated</td>\n",
       "      <td>educated</td>\n",
       "      <td>educated</td>\n",
       "    </tr>\n",
       "    <tr>\n",
       "      <th>employee_status</th>\n",
       "      <td>unemployed</td>\n",
       "      <td>unemployed</td>\n",
       "      <td>unemployed</td>\n",
       "      <td>unemployed</td>\n",
       "      <td>unemployed</td>\n",
       "    </tr>\n",
       "  </tbody>\n",
       "</table>\n",
       "</div>"
      ],
      "text/plain": [
       "                                    0               1               2  \\\n",
       "claim_id                    517566340       387782725       999807010   \n",
       "patient_id                      20006           20006           20006   \n",
       "service_date               2021-10-30      2021-12-14      2022-02-12   \n",
       "claim_type                         pd              pd              pd   \n",
       "days_supply                        45              60              90   \n",
       "quantity                           60              15              75   \n",
       "patient_birth_year               1963            1963            1963   \n",
       "gender                              m               m               m   \n",
       "disease_type                       t2              t2              t2   \n",
       "ndc                       47152818127     83161652750     83161652750   \n",
       "drug_name                    rybelsus        rybelsus        rybelsus   \n",
       "class                        incretin        incretin        incretin   \n",
       "sub_class              glp-1 receptor  glp-1 receptor  glp-1 receptor   \n",
       "mode_of_dispensation             oral            oral            oral   \n",
       "treatement_hierarchy                7               7               7   \n",
       "past_medical_history                y               y               y   \n",
       "family_history                      n               n               n   \n",
       "is_there_complication               y               y               y   \n",
       "marital_status                married         married         married   \n",
       "educational_status           educated        educated        educated   \n",
       "employee_status            unemployed      unemployed      unemployed   \n",
       "\n",
       "                                    3                   4  \n",
       "claim_id                    999807011           999807012  \n",
       "patient_id                      20006               20006  \n",
       "service_date               2022-05-13          2022-05-13  \n",
       "claim_type                         pd                  pd  \n",
       "days_supply                        45                  45  \n",
       "quantity                           75                  75  \n",
       "patient_birth_year               1963                1963  \n",
       "gender                              m                   m  \n",
       "disease_type                       t2                  t2  \n",
       "ndc                       83903911733         78589353539  \n",
       "drug_name                 humalog mix               actos  \n",
       "class                         insulin                oral  \n",
       "sub_class              premix insulin  thiazolidinediones  \n",
       "mode_of_dispensation       injectable                oral  \n",
       "treatement_hierarchy                9                   3  \n",
       "past_medical_history                y                   y  \n",
       "family_history                      n                   n  \n",
       "is_there_complication               y                   y  \n",
       "marital_status                married             married  \n",
       "educational_status           educated            educated  \n",
       "employee_status            unemployed          unemployed  "
      ]
     },
     "execution_count": 5,
     "metadata": {},
     "output_type": "execute_result"
    }
   ],
   "source": [
    "apld_df.head().T"
   ]
  },
  {
   "attachments": {},
   "cell_type": "markdown",
   "metadata": {},
   "source": [
    "### Filtering Relevant Data\n",
    "\n",
    "Data Satisfying the following conditions\n",
    "```\n",
    "- Paid claims\n",
    "- For Patients with Type 2 Diabetes\n",
    "- Within Study Date Range\n",
    "```"
   ]
  },
  {
   "cell_type": "code",
   "execution_count": 6,
   "metadata": {},
   "outputs": [],
   "source": [
    "apld = apld_df[apld_df['claim_type'].isin(['pd'])].copy()\n",
    "apld['service_date'] = pd.to_datetime(apld['service_date'])\n",
    "\n",
    "# Type 2 Diabetes\n",
    "\n",
    "apld = apld[apld['disease_type'].isin(['t2'])]\n",
    "\n",
    "apld = apld[apld['service_date'].between(start_date, end_date)]"
   ]
  },
  {
   "attachments": {},
   "cell_type": "markdown",
   "metadata": {},
   "source": [
    "# Feature Creation\n",
    "\n",
    "- `tot`           : time on therapy (first day supply till last day supply)\n",
    "- `survived`      : whether the patient is active or not by the end of our study\n",
    "- `total_time`    : time period of the study - 4 years\n",
    "- `dc`            : days covered (sum(days_supply))"
   ]
  },
  {
   "attachments": {},
   "cell_type": "markdown",
   "metadata": {},
   "source": [
    "### Calculate Patients Age"
   ]
  },
  {
   "cell_type": "code",
   "execution_count": 7,
   "metadata": {},
   "outputs": [],
   "source": [
    "# Take max birth date, as some patients have multiple birth dates\n",
    "age_df = apld.groupby('patient_id').agg({'patient_birth_year': 'max'}).reset_index()\n",
    "now = datetime.now()\n",
    "age_df['age'] = now.year - age_df['patient_birth_year']"
   ]
  },
  {
   "attachments": {},
   "cell_type": "markdown",
   "metadata": {},
   "source": [
    "### Derive tot (Time on Therapy)"
   ]
  },
  {
   "cell_type": "code",
   "execution_count": 8,
   "metadata": {},
   "outputs": [],
   "source": [
    "apld['drug_supply_next_date'] = apld['service_date'] + pd.to_timedelta(apld['days_supply'], unit='d')"
   ]
  },
  {
   "cell_type": "code",
   "execution_count": 9,
   "metadata": {},
   "outputs": [],
   "source": [
    "tot = apld.groupby('patient_id').agg({'service_date': 'min', 'drug_supply_next_date': 'max'}).reset_index().rename(columns={'service_date': 'drug_supply_first_date', 'drug_supply_next_date': 'drug_supply_last_date'})"
   ]
  },
  {
   "cell_type": "code",
   "execution_count": 11,
   "metadata": {},
   "outputs": [
    {
     "name": "stdout",
     "output_type": "stream",
     "text": [
      "False    9027\n",
      "Name: dup, dtype: int64\n"
     ]
    }
   ],
   "source": [
    "# Duplicates\n",
    "tot['dup'] = tot.duplicated('patient_id', keep=False)\n",
    "print(tot['dup'].value_counts())\n",
    "del tot['dup']"
   ]
  },
  {
   "cell_type": "code",
   "execution_count": 13,
   "metadata": {},
   "outputs": [],
   "source": [
    "# Deriving tot\n",
    "tot['tot'] = (tot['drug_supply_last_date'] - tot['drug_supply_first_date']).dt.days\n",
    "tot['total_time'] = (pd.Timestamp(end_date) - pd.Timestamp(start_date)).days"
   ]
  },
  {
   "attachments": {},
   "cell_type": "markdown",
   "metadata": {},
   "source": [
    "### Survival Assumption\n",
    "\n",
    "Our Assumption is that if a patient does not take medication after the last date date of drug supply expired then the patients has `DISCONTINUED TREATMENT`. We see that in the study period (2019 to 2022) ~76% patients have discontinued or not stayed on the therapy for the complete period of the study."
   ]
  },
  {
   "cell_type": "code",
   "execution_count": 14,
   "metadata": {},
   "outputs": [],
   "source": [
    "tot['survived'] = np.where(tot['drug_supply_last_date'] <= end_date, '1', '0')"
   ]
  },
  {
   "cell_type": "code",
   "execution_count": 15,
   "metadata": {},
   "outputs": [
    {
     "data": {
      "text/plain": [
       "1    6896\n",
       "0    2131\n",
       "Name: survived, dtype: int64"
      ]
     },
     "execution_count": 15,
     "metadata": {},
     "output_type": "execute_result"
    }
   ],
   "source": [
    "tot['survived'].value_counts()"
   ]
  },
  {
   "cell_type": "code",
   "execution_count": 16,
   "metadata": {},
   "outputs": [
    {
     "data": {
      "text/plain": [
       "1    0.76393\n",
       "0    0.23607\n",
       "Name: survived, dtype: float64"
      ]
     },
     "execution_count": 16,
     "metadata": {},
     "output_type": "execute_result"
    }
   ],
   "source": [
    "# Normalised tot\n",
    "tot['survived'].value_counts(normalize=True)"
   ]
  },
  {
   "attachments": {},
   "cell_type": "markdown",
   "metadata": {},
   "source": [
    "### Plot of overall survived"
   ]
  },
  {
   "cell_type": "code",
   "execution_count": 18,
   "metadata": {},
   "outputs": [
    {
     "data": {
      "image/png": "[encoded data removed]",
      "text/plain": [
       "<Figure size 640x480 with 1 Axes>"
      ]
     },
     "metadata": {},
     "output_type": "display_data"
    }
   ],
   "source": [
    "tot['survived'].value_counts(normalize=True).plot(kind='bar')\n",
    "plt.show()"
   ]
  },
  {
   "attachments": {},
   "cell_type": "markdown",
   "metadata": {},
   "source": [
    "## Derive Days Covered"
   ]
  },
  {
   "cell_type": "code",
   "execution_count": 20,
   "metadata": {},
   "outputs": [],
   "source": [
    "# Days Covered\n",
    "dc = apld.groupby('patient_id').agg({'days_supply': 'sum'}).reset_index().rename(columns={'days_supply': 'dc'})"
   ]
  },
  {
   "cell_type": "code",
   "execution_count": 21,
   "metadata": {},
   "outputs": [],
   "source": [
    "# Combine tot and dc\n",
    "apld = pd.merge(apld, tot[['patient_id', 'drug_supply_first_date', 'drug_supply_last_date', 'tot', 'total_time', 'survived']], on=['patient_id'], how='left')\n",
    "apld = pd.merge(apld, dc, on=['patient_id'], how='left')\n",
    "apld = pd.merge(apld, age_df[['patient_id', 'age']], on=['patient_id'], how='left')"
   ]
  },
  {
   "attachments": {},
   "cell_type": "markdown",
   "metadata": {},
   "source": [
    "# Select Features"
   ]
  },
  {
   "cell_type": "code",
   "execution_count": 24,
   "metadata": {},
   "outputs": [
    {
     "data": {
      "text/html": [
       "<div>\n",
       "<style scoped>\n",
       "    .dataframe tbody tr th:only-of-type {\n",
       "        vertical-align: middle;\n",
       "    }\n",
       "\n",
       "    .dataframe tbody tr th {\n",
       "        vertical-align: top;\n",
       "    }\n",
       "\n",
       "    .dataframe thead th {\n",
       "        text-align: right;\n",
       "    }\n",
       "</style>\n",
       "<table border=\"1\" class=\"dataframe\">\n",
       "  <thead>\n",
       "    <tr style=\"text-align: right;\">\n",
       "      <th></th>\n",
       "      <th>0</th>\n",
       "      <th>20</th>\n",
       "      <th>23</th>\n",
       "      <th>54</th>\n",
       "      <th>71</th>\n",
       "    </tr>\n",
       "  </thead>\n",
       "  <tbody>\n",
       "    <tr>\n",
       "      <th>patient_id</th>\n",
       "      <td>20006</td>\n",
       "      <td>20021</td>\n",
       "      <td>20023</td>\n",
       "      <td>20038</td>\n",
       "      <td>20044</td>\n",
       "    </tr>\n",
       "    <tr>\n",
       "      <th>gender</th>\n",
       "      <td>m</td>\n",
       "      <td>f</td>\n",
       "      <td>f</td>\n",
       "      <td>m</td>\n",
       "      <td>m</td>\n",
       "    </tr>\n",
       "    <tr>\n",
       "      <th>age</th>\n",
       "      <td>60</td>\n",
       "      <td>62</td>\n",
       "      <td>43</td>\n",
       "      <td>43</td>\n",
       "      <td>52</td>\n",
       "    </tr>\n",
       "    <tr>\n",
       "      <th>past_medical_history</th>\n",
       "      <td>y</td>\n",
       "      <td>n</td>\n",
       "      <td>y</td>\n",
       "      <td>n</td>\n",
       "      <td>n</td>\n",
       "    </tr>\n",
       "    <tr>\n",
       "      <th>family_history</th>\n",
       "      <td>n</td>\n",
       "      <td>y</td>\n",
       "      <td>n</td>\n",
       "      <td>n</td>\n",
       "      <td>n</td>\n",
       "    </tr>\n",
       "    <tr>\n",
       "      <th>is_there_complication</th>\n",
       "      <td>y</td>\n",
       "      <td>y</td>\n",
       "      <td>y</td>\n",
       "      <td>n</td>\n",
       "      <td>y</td>\n",
       "    </tr>\n",
       "    <tr>\n",
       "      <th>marital_status</th>\n",
       "      <td>married</td>\n",
       "      <td>single</td>\n",
       "      <td>married</td>\n",
       "      <td>married</td>\n",
       "      <td>married</td>\n",
       "    </tr>\n",
       "    <tr>\n",
       "      <th>educational_status</th>\n",
       "      <td>educated</td>\n",
       "      <td>educated</td>\n",
       "      <td>educated</td>\n",
       "      <td>uneducated</td>\n",
       "      <td>educated</td>\n",
       "    </tr>\n",
       "    <tr>\n",
       "      <th>employee_status</th>\n",
       "      <td>unemployed</td>\n",
       "      <td>unemployed</td>\n",
       "      <td>unemployed</td>\n",
       "      <td>unemployed</td>\n",
       "      <td>unemployed</td>\n",
       "    </tr>\n",
       "    <tr>\n",
       "      <th>tot</th>\n",
       "      <td>270</td>\n",
       "      <td>112</td>\n",
       "      <td>661</td>\n",
       "      <td>495</td>\n",
       "      <td>1139</td>\n",
       "    </tr>\n",
       "    <tr>\n",
       "      <th>total_time</th>\n",
       "      <td>1460</td>\n",
       "      <td>1460</td>\n",
       "      <td>1460</td>\n",
       "      <td>1460</td>\n",
       "      <td>1460</td>\n",
       "    </tr>\n",
       "    <tr>\n",
       "      <th>survived</th>\n",
       "      <td>1</td>\n",
       "      <td>1</td>\n",
       "      <td>1</td>\n",
       "      <td>1</td>\n",
       "      <td>1</td>\n",
       "    </tr>\n",
       "    <tr>\n",
       "      <th>dc</th>\n",
       "      <td>825</td>\n",
       "      <td>105</td>\n",
       "      <td>1470</td>\n",
       "      <td>1215</td>\n",
       "      <td>2460</td>\n",
       "    </tr>\n",
       "  </tbody>\n",
       "</table>\n",
       "</div>"
      ],
      "text/plain": [
       "                               0           20          23          54  \\\n",
       "patient_id                  20006       20021       20023       20038   \n",
       "gender                          m           f           f           m   \n",
       "age                            60          62          43          43   \n",
       "past_medical_history            y           n           y           n   \n",
       "family_history                  n           y           n           n   \n",
       "is_there_complication           y           y           y           n   \n",
       "marital_status            married      single     married     married   \n",
       "educational_status       educated    educated    educated  uneducated   \n",
       "employee_status        unemployed  unemployed  unemployed  unemployed   \n",
       "tot                           270         112         661         495   \n",
       "total_time                   1460        1460        1460        1460   \n",
       "survived                        1           1           1           1   \n",
       "dc                            825         105        1470        1215   \n",
       "\n",
       "                               71  \n",
       "patient_id                  20044  \n",
       "gender                          m  \n",
       "age                            52  \n",
       "past_medical_history            n  \n",
       "family_history                  n  \n",
       "is_there_complication           y  \n",
       "marital_status            married  \n",
       "educational_status       educated  \n",
       "employee_status        unemployed  \n",
       "tot                          1139  \n",
       "total_time                   1460  \n",
       "survived                        1  \n",
       "dc                           2460  "
      ]
     },
     "execution_count": 24,
     "metadata": {},
     "output_type": "execute_result"
    }
   ],
   "source": [
    "input = ['patient_id', 'gender', 'age', 'past_medical_history', 'family_history', 'is_there_complication', 'marital_status', 'educational_status', 'employee_status', 'tot', 'total_time', 'survived', 'dc']\n",
    "s1_apld = apld[input].drop_duplicates()\n",
    "s1_apld.head().T"
   ]
  },
  {
   "cell_type": "code",
   "execution_count": 25,
   "metadata": {},
   "outputs": [
    {
     "name": "stdout",
     "output_type": "stream",
     "text": [
      "False    8761\n",
      "True      532\n",
      "Name: dup, dtype: int64\n"
     ]
    }
   ],
   "source": [
    "# Duplicate patients\n",
    "s1_apld['dup'] = s1_apld.duplicated('patient_id', keep=False)\n",
    "print(s1_apld['dup'].value_counts())"
   ]
  },
  {
   "cell_type": "code",
   "execution_count": 27,
   "metadata": {},
   "outputs": [
    {
     "data": {
      "text/html": [
       "<div>\n",
       "<style scoped>\n",
       "    .dataframe tbody tr th:only-of-type {\n",
       "        vertical-align: middle;\n",
       "    }\n",
       "\n",
       "    .dataframe tbody tr th {\n",
       "        vertical-align: top;\n",
       "    }\n",
       "\n",
       "    .dataframe thead th {\n",
       "        text-align: right;\n",
       "    }\n",
       "</style>\n",
       "<table border=\"1\" class=\"dataframe\">\n",
       "  <thead>\n",
       "    <tr style=\"text-align: right;\">\n",
       "      <th></th>\n",
       "      <th>366</th>\n",
       "      <th>384</th>\n",
       "    </tr>\n",
       "  </thead>\n",
       "  <tbody>\n",
       "    <tr>\n",
       "      <th>patient_id</th>\n",
       "      <td>20227</td>\n",
       "      <td>20227</td>\n",
       "    </tr>\n",
       "    <tr>\n",
       "      <th>gender</th>\n",
       "      <td>f</td>\n",
       "      <td>m</td>\n",
       "    </tr>\n",
       "    <tr>\n",
       "      <th>age</th>\n",
       "      <td>22</td>\n",
       "      <td>22</td>\n",
       "    </tr>\n",
       "    <tr>\n",
       "      <th>past_medical_history</th>\n",
       "      <td>n</td>\n",
       "      <td>y</td>\n",
       "    </tr>\n",
       "    <tr>\n",
       "      <th>family_history</th>\n",
       "      <td>n</td>\n",
       "      <td>n</td>\n",
       "    </tr>\n",
       "    <tr>\n",
       "      <th>is_there_complication</th>\n",
       "      <td>n</td>\n",
       "      <td>y</td>\n",
       "    </tr>\n",
       "    <tr>\n",
       "      <th>marital_status</th>\n",
       "      <td>married</td>\n",
       "      <td>single</td>\n",
       "    </tr>\n",
       "    <tr>\n",
       "      <th>educational_status</th>\n",
       "      <td>educated</td>\n",
       "      <td>uneducated</td>\n",
       "    </tr>\n",
       "    <tr>\n",
       "      <th>employee_status</th>\n",
       "      <td>employee</td>\n",
       "      <td>unemployed</td>\n",
       "    </tr>\n",
       "    <tr>\n",
       "      <th>tot</th>\n",
       "      <td>1318</td>\n",
       "      <td>1318</td>\n",
       "    </tr>\n",
       "    <tr>\n",
       "      <th>total_time</th>\n",
       "      <td>1460</td>\n",
       "      <td>1460</td>\n",
       "    </tr>\n",
       "    <tr>\n",
       "      <th>survived</th>\n",
       "      <td>1</td>\n",
       "      <td>1</td>\n",
       "    </tr>\n",
       "    <tr>\n",
       "      <th>dc</th>\n",
       "      <td>2880</td>\n",
       "      <td>2880</td>\n",
       "    </tr>\n",
       "    <tr>\n",
       "      <th>dup</th>\n",
       "      <td>True</td>\n",
       "      <td>True</td>\n",
       "    </tr>\n",
       "  </tbody>\n",
       "</table>\n",
       "</div>"
      ],
      "text/plain": [
       "                            366         384\n",
       "patient_id                20227       20227\n",
       "gender                        f           m\n",
       "age                          22          22\n",
       "past_medical_history          n           y\n",
       "family_history                n           n\n",
       "is_there_complication         n           y\n",
       "marital_status          married      single\n",
       "educational_status     educated  uneducated\n",
       "employee_status        employee  unemployed\n",
       "tot                        1318        1318\n",
       "total_time                 1460        1460\n",
       "survived                      1           1\n",
       "dc                         2880        2880\n",
       "dup                        True        True"
      ]
     },
     "execution_count": 27,
     "metadata": {},
     "output_type": "execute_result"
    }
   ],
   "source": [
    "s1_apld[s1_apld['dup'] == True]\n",
    "\n",
    "# Duplicate records: Gender, Past Medical History appear in 2 different catetories for the same patient\n",
    "\n",
    "s1_apld[s1_apld['patient_id'] == 20227].T"
   ]
  },
  {
   "cell_type": "code",
   "execution_count": 29,
   "metadata": {},
   "outputs": [],
   "source": [
    "# Drop duplicates\n",
    "dups = s1_apld[s1_apld['dup'] == 1].sort_values(by= ['patient_id'])\n",
    "s1_apld = s1_apld[s1_apld['dup'] == 0]\n",
    "del s1_apld['dup']"
   ]
  },
  {
   "attachments": {},
   "cell_type": "markdown",
   "metadata": {},
   "source": [
    "# Exploratory Data Analysis"
   ]
  },
  {
   "cell_type": "code",
   "execution_count": 34,
   "metadata": {},
   "outputs": [],
   "source": [
    "# Patients within last 4 years\n",
    "last4y = apld[apld['service_date'].between(start_date,end_date)][['patient_id']].drop_duplicates()\n",
    "s1_apld_4_yrs = s1_apld[s1_apld['patient_id'].isin(last4y['patient_id'])].reset_index(drop=True)"
   ]
  },
  {
   "cell_type": "code",
   "execution_count": 36,
   "metadata": {},
   "outputs": [
    {
     "data": {
      "text/plain": [
       "1    76.829129\n",
       "0    23.170871\n",
       "Name: survived, dtype: float64"
      ]
     },
     "execution_count": 36,
     "metadata": {},
     "output_type": "execute_result"
    }
   ],
   "source": [
    "# ~75% of the patients have left the cohort\n",
    "s1_apld_4_yrs['survived'].value_counts(normalize=True)*100"
   ]
  },
  {
   "attachments": {},
   "cell_type": "markdown",
   "metadata": {},
   "source": [
    "#### Plots : Patients Survived "
   ]
  },
  {
   "cell_type": "code",
   "execution_count": 38,
   "metadata": {},
   "outputs": [
    {
     "data": {
      "image/png": "[encoded data removed]",
      "text/plain": [
       "<Figure size 640x480 with 1 Axes>"
      ]
     },
     "metadata": {},
     "output_type": "display_data"
    }
   ],
   "source": [
    "(s1_apld['survived'].value_counts(normalize=True)*100).plot(kind='bar')\n",
    "plt.show()"
   ]
  },
  {
   "cell_type": "code",
   "execution_count": 42,
   "metadata": {},
   "outputs": [
    {
     "data": {
      "text/html": [
       "<div>\n",
       "<style scoped>\n",
       "    .dataframe tbody tr th:only-of-type {\n",
       "        vertical-align: middle;\n",
       "    }\n",
       "\n",
       "    .dataframe tbody tr th {\n",
       "        vertical-align: top;\n",
       "    }\n",
       "\n",
       "    .dataframe thead th {\n",
       "        text-align: right;\n",
       "    }\n",
       "</style>\n",
       "<table border=\"1\" class=\"dataframe\">\n",
       "  <thead>\n",
       "    <tr style=\"text-align: right;\">\n",
       "      <th></th>\n",
       "      <th>count</th>\n",
       "      <th>mean</th>\n",
       "      <th>std</th>\n",
       "      <th>min</th>\n",
       "      <th>25%</th>\n",
       "      <th>50%</th>\n",
       "      <th>75%</th>\n",
       "      <th>max</th>\n",
       "    </tr>\n",
       "  </thead>\n",
       "  <tbody>\n",
       "    <tr>\n",
       "      <th>patient_id</th>\n",
       "      <td>8761.0</td>\n",
       "      <td>60434.333295</td>\n",
       "      <td>23075.599055</td>\n",
       "      <td>20006.0</td>\n",
       "      <td>40781.0</td>\n",
       "      <td>60608.0</td>\n",
       "      <td>80449.0</td>\n",
       "      <td>99995.0</td>\n",
       "    </tr>\n",
       "    <tr>\n",
       "      <th>age</th>\n",
       "      <td>8761.0</td>\n",
       "      <td>40.016665</td>\n",
       "      <td>20.257153</td>\n",
       "      <td>5.0</td>\n",
       "      <td>22.0</td>\n",
       "      <td>40.0</td>\n",
       "      <td>58.0</td>\n",
       "      <td>75.0</td>\n",
       "    </tr>\n",
       "    <tr>\n",
       "      <th>tot</th>\n",
       "      <td>8761.0</td>\n",
       "      <td>556.623901</td>\n",
       "      <td>310.483732</td>\n",
       "      <td>15.0</td>\n",
       "      <td>315.0</td>\n",
       "      <td>489.0</td>\n",
       "      <td>761.0</td>\n",
       "      <td>1445.0</td>\n",
       "    </tr>\n",
       "    <tr>\n",
       "      <th>total_time</th>\n",
       "      <td>8761.0</td>\n",
       "      <td>1460.000000</td>\n",
       "      <td>0.000000</td>\n",
       "      <td>1460.0</td>\n",
       "      <td>1460.0</td>\n",
       "      <td>1460.0</td>\n",
       "      <td>1460.0</td>\n",
       "      <td>1460.0</td>\n",
       "    </tr>\n",
       "    <tr>\n",
       "      <th>dc</th>\n",
       "      <td>8761.0</td>\n",
       "      <td>915.244835</td>\n",
       "      <td>649.219487</td>\n",
       "      <td>15.0</td>\n",
       "      <td>405.0</td>\n",
       "      <td>765.0</td>\n",
       "      <td>1260.0</td>\n",
       "      <td>5655.0</td>\n",
       "    </tr>\n",
       "  </tbody>\n",
       "</table>\n",
       "</div>"
      ],
      "text/plain": [
       "             count          mean           std      min      25%      50%  \\\n",
       "patient_id  8761.0  60434.333295  23075.599055  20006.0  40781.0  60608.0   \n",
       "age         8761.0     40.016665     20.257153      5.0     22.0     40.0   \n",
       "tot         8761.0    556.623901    310.483732     15.0    315.0    489.0   \n",
       "total_time  8761.0   1460.000000      0.000000   1460.0   1460.0   1460.0   \n",
       "dc          8761.0    915.244835    649.219487     15.0    405.0    765.0   \n",
       "\n",
       "                75%      max  \n",
       "patient_id  80449.0  99995.0  \n",
       "age            58.0     75.0  \n",
       "tot           761.0   1445.0  \n",
       "total_time   1460.0   1460.0  \n",
       "dc           1260.0   5655.0  "
      ]
     },
     "execution_count": 42,
     "metadata": {},
     "output_type": "execute_result"
    }
   ],
   "source": [
    "# Summary\n",
    "s1_apld_4_yrs.describe().T"
   ]
  },
  {
   "cell_type": "code",
   "execution_count": 45,
   "metadata": {},
   "outputs": [
    {
     "data": {
      "image/png": "[encoded data removed]",
      "text/plain": [
       "<Figure size 800x600 with 1 Axes>"
      ]
     },
     "metadata": {},
     "output_type": "display_data"
    }
   ],
   "source": [
    "# Scatter Plot\n",
    "plt.figure(figsize=(8, 6))\n",
    "plt.scatter(s1_apld_4_yrs['tot'], s1_apld_4_yrs['dc'])\n",
    "plt.xlabel('tot')\n",
    "plt.ylabel('dc')\n",
    "plt.show()"
   ]
  },
  {
   "attachments": {},
   "cell_type": "markdown",
   "metadata": {},
   "source": [
    "### Plots : Patient Time on Therapy (tot)"
   ]
  },
  {
   "cell_type": "code",
   "execution_count": 47,
   "metadata": {},
   "outputs": [
    {
     "data": {
      "image/png": "[encoded data removed]",
      "text/plain": [
       "<Figure size 1200x600 with 2 Axes>"
      ]
     },
     "metadata": {},
     "output_type": "display_data"
    }
   ],
   "source": [
    "# Box Plot & Distribution\n",
    "fig, axes = plt.subplots(1, 2, figsize=(12, 6))\n",
    "axes[0].set_title('Distribution of tot', size = 15)\n",
    "sns.histplot(s1_apld_4_yrs['tot'], ax=axes[0])\n",
    "axes[1].set_title('Box Plot of tot', size = 15)    \n",
    "sns.boxplot(data=s1_apld_4_yrs['tot'], ax = axes[1])\n",
    "plt.show()"
   ]
  }
 ],
 "metadata": {
  "kernelspec": {
   "display_name": "base",
   "language": "python",
   "name": "python3"
  },
  "language_info": {
   "codemirror_mode": {
    "name": "ipython",
    "version": 3
   },
   "file_extension": ".py",
   "mimetype": "text/x-python",
   "name": "python",
   "nbconvert_exporter": "python",
   "pygments_lexer": "ipython3",
   "version": "3.9.13"
  },
  "orig_nbformat": 4
 },
 "nbformat": 4,
 "nbformat_minor": 2
}
